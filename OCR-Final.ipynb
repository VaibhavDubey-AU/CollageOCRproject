{
 "cells": [
  {
   "cell_type": "code",
   "execution_count": 1,
   "metadata": {},
   "outputs": [],
   "source": [
    "import tkinter as tk\n",
    "from tkinter import filedialog\n",
    "import pytesseract\n",
    "pytesseract.pytesseract.tesseract_cmd='C:\\\\Program Files\\\\Tesseract-OCR\\\\tesseract.exe'\n",
    "from PIL import Image, ImageTk\n",
    "\n",
    "\n"
   ]
  },
  {
   "cell_type": "code",
   "execution_count": 2,
   "metadata": {},
   "outputs": [
    {
     "data": {
      "text/plain": [
       "''"
      ]
     },
     "execution_count": 2,
     "metadata": {},
     "output_type": "execute_result"
    }
   ],
   "source": [
    "# Create the main window\n",
    "window = tk.Tk()\n",
    "window.geometry('600x300')\n",
    "\n",
    "window.title(\"Python Project For Optical Character Reader\")\n"
   ]
  },
  {
   "cell_type": "code",
   "execution_count": 3,
   "metadata": {},
   "outputs": [],
   "source": [
    "# Create a function to open a file dialog and select an image file\n",
    "def select_image():\n",
    "    # Open a file dialog and get the selected file's path\n",
    "    file_path = filedialog.askopenfilename()\n",
    "\n",
    "    # Load the image using the Pillow library\n",
    "    image = Image.open(file_path)\n",
    "\n",
    "    # Use PyTesseract to extract the text from the image\n",
    "    text = pytesseract.image_to_string(image)\n",
    "    \n",
    "    # Write the extracted text to a doc file\n",
    "    with open(\"output.doc\", \"w\") as f:\n",
    "        f.write(text)\n",
    "\n",
    "    # Display the extracted text in a text widget\n",
    "    text_widget = tk.Text(window)\n",
    "    text_widget.pack()\n",
    "    text_widget.insert(tk.END, text)\n",
    "\n",
    "\n",
    "#display image \n",
    "    img_widget = tk.Image(window)\n",
    "    img_widget.geometry('600x400')\n",
    "    img_widget.pack()\n",
    "    img_widget.insert(tk.END, image)\n",
    "\n"
   ]
  },
  {
   "cell_type": "code",
   "execution_count": 4,
   "metadata": {},
   "outputs": [],
   "source": [
    "# Create a button to trigger the image selection process\n",
    "button = tk.Button(text=\"Select Image\", command=select_image)\n",
    "button.pack()"
   ]
  },
  {
   "cell_type": "code",
   "execution_count": 5,
   "metadata": {},
   "outputs": [
    {
     "name": "stderr",
     "output_type": "stream",
     "text": [
      "Exception in Tkinter callback\n",
      "Traceback (most recent call last):\n",
      "  File \"c:\\Users\\HP\\AppData\\Local\\Programs\\Python\\Python311\\Lib\\tkinter\\__init__.py\", line 1948, in __call__\n",
      "    return self.func(*args)\n",
      "           ^^^^^^^^^^^^^^^^\n",
      "  File \"C:\\Users\\HP\\AppData\\Local\\Temp\\ipykernel_13756\\72023812.py\", line 23, in select_image\n",
      "    img_widget = tk.Image(window)\n",
      "                 ^^^^^^^^^^^^^^^^\n",
      "  File \"c:\\Users\\HP\\AppData\\Local\\Programs\\Python\\Python311\\Lib\\tkinter\\__init__.py\", line 4065, in __init__\n",
      "    self.tk.call(('image', 'create', imgtype, name,) + options)\n",
      "_tkinter.TclError: image type \".\" doesn't exist\n"
     ]
    }
   ],
   "source": [
    "# Run the main loop\n",
    "window.mainloop()\n"
   ]
  }
 ],
 "metadata": {
  "kernelspec": {
   "display_name": "Python 3",
   "language": "python",
   "name": "python3"
  },
  "language_info": {
   "codemirror_mode": {
    "name": "ipython",
    "version": 3
   },
   "file_extension": ".py",
   "mimetype": "text/x-python",
   "name": "python",
   "nbconvert_exporter": "python",
   "pygments_lexer": "ipython3",
   "version": "3.11.0"
  },
  "orig_nbformat": 4,
  "vscode": {
   "interpreter": {
    "hash": "1f6a27bcfbe46a917dbd192f4a82657396dda26148bae633192e8d28c70725f1"
   }
  }
 },
 "nbformat": 4,
 "nbformat_minor": 2
}
